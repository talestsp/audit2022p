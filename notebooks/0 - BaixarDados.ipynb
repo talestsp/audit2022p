{
 "cells": [
  {
   "cell_type": "markdown",
   "id": "d93116de",
   "metadata": {},
   "source": [
    "# BaixarDados\n",
    "Este notebook tem o objetivo de baixar dados para seu devido diretório dentro de `data/`"
   ]
  },
  {
   "cell_type": "code",
   "execution_count": 1,
   "id": "2a6d5079",
   "metadata": {},
   "outputs": [
    {
     "data": {
      "text/plain": [
       "'/Users/tales.pimentel/ds/audit2022p'"
      ]
     },
     "execution_count": 1,
     "metadata": {},
     "output_type": "execute_result"
    }
   ],
   "source": [
    "import working_dir\n",
    "working_dir.set_wd()\n",
    "working_dir.get_wd()"
   ]
  },
  {
   "cell_type": "code",
   "execution_count": 2,
   "id": "3212aced",
   "metadata": {},
   "outputs": [],
   "source": [
    "import os\n",
    "import requests\n",
    "from src.dao import data_urls, data_globals"
   ]
  },
  {
   "cell_type": "code",
   "execution_count": 3,
   "id": "7b7abd00",
   "metadata": {},
   "outputs": [],
   "source": [
    "def download_url(url, save_path, chunk_size=128):\n",
    "    r = requests.get(url, stream=True)\n",
    "    with open(save_path, 'wb') as fd:\n",
    "        for chunk in r.iter_content(chunk_size=chunk_size):\n",
    "            fd.write(chunk)"
   ]
  },
  {
   "cell_type": "code",
   "execution_count": 4,
   "id": "c8911916",
   "metadata": {},
   "outputs": [],
   "source": [
    "if not os.path.exists(data_globals.DIR_DATA):\n",
    "    os.mkdir(data_globals.DIR_DATA)\n",
    "    \n",
    "if not os.path.exists(data_globals.DIR_DATA_RAW):\n",
    "    os.mkdir(data_globals.DIR_DATA_RAW)\n",
    "\n",
    "if not os.path.exists(data_globals.DIR_DATA_RAW_TSE):\n",
    "    os.mkdir(data_globals.DIR_DATA_RAW_TSE)\n",
    "    \n",
    "if not os.path.exists(data_globals.DIR_DATA_RAW_IBGE):\n",
    "    os.mkdir(data_globals.DIR_DATA_RAW_IBGE)"
   ]
  },
  {
   "cell_type": "markdown",
   "id": "5c19358e",
   "metadata": {},
   "source": [
    "# Dados do TSE"
   ]
  },
  {
   "cell_type": "markdown",
   "id": "37594c42",
   "metadata": {},
   "source": [
    "### Base de dados de Votação"
   ]
  },
  {
   "cell_type": "code",
   "execution_count": 5,
   "id": "fc64e745",
   "metadata": {},
   "outputs": [
    {
     "name": "stdout",
     "output_type": "stream",
     "text": [
      "Baixando https://cdn.tse.jus.br/estatistica/sead/odsele/votacao_secao/votacao_secao_2022_BR.zip\n",
      "Arquivo já existe!\n",
      "Salvo em data/raw/tse/votacao_secao_2022_BR.zip\n"
     ]
    }
   ],
   "source": [
    "filepath = data_globals.DIR_DATA_RAW_TSE + data_urls.get_url_votacao_secao_filename()\n",
    "\n",
    "print(f\"Baixando {data_urls.get_url_votacao_secao()}\")\n",
    "\n",
    "if os.path.exists(filepath):\n",
    "    print(\"Arquivo já existe!\")\n",
    "\n",
    "else:\n",
    "    download_url(data_urls.get_url_votacao_secao(), \n",
    "                 save_path=filepath)\n",
    "\n",
    "print(f\"Salvo em {filepath}\")"
   ]
  },
  {
   "cell_type": "markdown",
   "id": "8e83418d",
   "metadata": {},
   "source": [
    "### Base de dados de Boletins de Urna"
   ]
  },
  {
   "cell_type": "code",
   "execution_count": 6,
   "id": "f5de08bb",
   "metadata": {
    "scrolled": false
   },
   "outputs": [
    {
     "name": "stdout",
     "output_type": "stream",
     "text": [
      "Baixando https://cdn.tse.jus.br/estatistica/sead/eleicoes/eleicoes2022/buweb/bweb_2t_AC_311020221535.zip\n",
      "Arquivo já existe!\n",
      "Salvo em data/raw/tse/bweb_2t_AC_311020221535.zip\n",
      "\n",
      "Baixando https://cdn.tse.jus.br/estatistica/sead/eleicoes/eleicoes2022/buweb/bweb_2t_AL_311020221535.zip\n",
      "Arquivo já existe!\n",
      "Salvo em data/raw/tse/bweb_2t_AL_311020221535.zip\n",
      "\n",
      "Baixando https://cdn.tse.jus.br/estatistica/sead/eleicoes/eleicoes2022/buweb/bweb_2t_AP_311020221535.zip\n",
      "Arquivo já existe!\n",
      "Salvo em data/raw/tse/bweb_2t_AP_311020221535.zip\n",
      "\n",
      "Baixando https://cdn.tse.jus.br/estatistica/sead/eleicoes/eleicoes2022/buweb/bweb_2t_AM_311020221535.zip\n",
      "Arquivo já existe!\n",
      "Salvo em data/raw/tse/bweb_2t_AM_311020221535.zip\n",
      "\n",
      "Baixando https://cdn.tse.jus.br/estatistica/sead/eleicoes/eleicoes2022/buweb/bweb_2t_BA_311020221535.zip\n",
      "Arquivo já existe!\n",
      "Salvo em data/raw/tse/bweb_2t_BA_311020221535.zip\n",
      "\n",
      "Baixando https://cdn.tse.jus.br/estatistica/sead/eleicoes/eleicoes2022/buweb/bweb_2t_CE_311020221535.zip\n",
      "Arquivo já existe!\n",
      "Salvo em data/raw/tse/bweb_2t_CE_311020221535.zip\n",
      "\n",
      "Baixando https://cdn.tse.jus.br/estatistica/sead/eleicoes/eleicoes2022/buweb/bweb_2t_DF_311020221535.zip\n",
      "Arquivo já existe!\n",
      "Salvo em data/raw/tse/bweb_2t_DF_311020221535.zip\n",
      "\n",
      "Baixando https://cdn.tse.jus.br/estatistica/sead/eleicoes/eleicoes2022/buweb/bweb_2t_ES_311020221535.zip\n",
      "Arquivo já existe!\n",
      "Salvo em data/raw/tse/bweb_2t_ES_311020221535.zip\n",
      "\n",
      "Baixando https://cdn.tse.jus.br/estatistica/sead/eleicoes/eleicoes2022/buweb/bweb_2t_GO_311020221535.zip\n",
      "Arquivo já existe!\n",
      "Salvo em data/raw/tse/bweb_2t_GO_311020221535.zip\n",
      "\n",
      "Baixando https://cdn.tse.jus.br/estatistica/sead/eleicoes/eleicoes2022/buweb/bweb_2t_MA_311020221535.zip\n",
      "Arquivo já existe!\n",
      "Salvo em data/raw/tse/bweb_2t_MA_311020221535.zip\n",
      "\n",
      "Baixando https://cdn.tse.jus.br/estatistica/sead/eleicoes/eleicoes2022/buweb/bweb_2t_MT_311020221535.zip\n",
      "Arquivo já existe!\n",
      "Salvo em data/raw/tse/bweb_2t_MT_311020221535.zip\n",
      "\n",
      "Baixando https://cdn.tse.jus.br/estatistica/sead/eleicoes/eleicoes2022/buweb/bweb_2t_MS_311020221535.zip\n",
      "Arquivo já existe!\n",
      "Salvo em data/raw/tse/bweb_2t_MS_311020221535.zip\n",
      "\n",
      "Baixando https://cdn.tse.jus.br/estatistica/sead/eleicoes/eleicoes2022/buweb/bweb_2t_MG_311020221535.zip\n",
      "Arquivo já existe!\n",
      "Salvo em data/raw/tse/bweb_2t_MG_311020221535.zip\n",
      "\n",
      "Baixando https://cdn.tse.jus.br/estatistica/sead/eleicoes/eleicoes2022/buweb/bweb_2t_PA_311020221535.zip\n",
      "Arquivo já existe!\n",
      "Salvo em data/raw/tse/bweb_2t_PA_311020221535.zip\n",
      "\n",
      "Baixando https://cdn.tse.jus.br/estatistica/sead/eleicoes/eleicoes2022/buweb/bweb_2t_PB_311020221535.zip\n",
      "Arquivo já existe!\n",
      "Salvo em data/raw/tse/bweb_2t_PB_311020221535.zip\n",
      "\n",
      "Baixando https://cdn.tse.jus.br/estatistica/sead/eleicoes/eleicoes2022/buweb/bweb_2t_PR_311020221535.zip\n",
      "Arquivo já existe!\n",
      "Salvo em data/raw/tse/bweb_2t_PR_311020221535.zip\n",
      "\n",
      "Baixando https://cdn.tse.jus.br/estatistica/sead/eleicoes/eleicoes2022/buweb/bweb_2t_PE_311020221535.zip\n",
      "Arquivo já existe!\n",
      "Salvo em data/raw/tse/bweb_2t_PE_311020221535.zip\n",
      "\n",
      "Baixando https://cdn.tse.jus.br/estatistica/sead/eleicoes/eleicoes2022/buweb/bweb_2t_PI_311020221535.zip\n",
      "Arquivo já existe!\n",
      "Salvo em data/raw/tse/bweb_2t_PI_311020221535.zip\n",
      "\n",
      "Baixando https://cdn.tse.jus.br/estatistica/sead/eleicoes/eleicoes2022/buweb/bweb_2t_RJ_311020221535.zip\n",
      "Arquivo já existe!\n",
      "Salvo em data/raw/tse/bweb_2t_RJ_311020221535.zip\n",
      "\n",
      "Baixando https://cdn.tse.jus.br/estatistica/sead/eleicoes/eleicoes2022/buweb/bweb_2t_RN_311020221535.zip\n",
      "Arquivo já existe!\n",
      "Salvo em data/raw/tse/bweb_2t_RN_311020221535.zip\n",
      "\n",
      "Baixando https://cdn.tse.jus.br/estatistica/sead/eleicoes/eleicoes2022/buweb/bweb_2t_RS_311020221535.zip\n",
      "Arquivo já existe!\n",
      "Salvo em data/raw/tse/bweb_2t_RS_311020221535.zip\n",
      "\n",
      "Baixando https://cdn.tse.jus.br/estatistica/sead/eleicoes/eleicoes2022/buweb/bweb_2t_RO_311020221535.zip\n",
      "Arquivo já existe!\n",
      "Salvo em data/raw/tse/bweb_2t_RO_311020221535.zip\n",
      "\n",
      "Baixando https://cdn.tse.jus.br/estatistica/sead/eleicoes/eleicoes2022/buweb/bweb_2t_RR_311020221535.zip\n",
      "Arquivo já existe!\n",
      "Salvo em data/raw/tse/bweb_2t_RR_311020221535.zip\n",
      "\n",
      "Baixando https://cdn.tse.jus.br/estatistica/sead/eleicoes/eleicoes2022/buweb/bweb_2t_SC_311020221535.zip\n",
      "Arquivo já existe!\n",
      "Salvo em data/raw/tse/bweb_2t_SC_311020221535.zip\n",
      "\n",
      "Baixando https://cdn.tse.jus.br/estatistica/sead/eleicoes/eleicoes2022/buweb/bweb_2t_SP_311020221535.zip\n",
      "Arquivo já existe!\n",
      "Salvo em data/raw/tse/bweb_2t_SP_311020221535.zip\n",
      "\n",
      "Baixando https://cdn.tse.jus.br/estatistica/sead/eleicoes/eleicoes2022/buweb/bweb_2t_SE_311020221535.zip\n",
      "Arquivo já existe!\n",
      "Salvo em data/raw/tse/bweb_2t_SE_311020221535.zip\n",
      "\n",
      "Baixando https://cdn.tse.jus.br/estatistica/sead/eleicoes/eleicoes2022/buweb/bweb_2t_TO_311020221535.zip\n",
      "Arquivo já existe!\n",
      "Salvo em data/raw/tse/bweb_2t_TO_311020221535.zip\n",
      "\n",
      "Baixando https://cdn.tse.jus.br/estatistica/sead/eleicoes/eleicoes2022/buweb/bweb_2t_ZZ_311020221535.zip\n",
      "Arquivo já existe!\n",
      "Salvo em data/raw/tse/bweb_2t_ZZ_311020221535.zip\n",
      "\n"
     ]
    }
   ],
   "source": [
    "for url_sigla in data_urls.get_url_todos_os_estados(data_globals.SIGLAS_ESTADOS_TSE):\n",
    "    \n",
    "    filepath = data_globals.DIR_DATA_RAW_TSE + url_sigla.split('/')[-1]\n",
    "    \n",
    "    print(f\"Baixando {url_sigla}\")\n",
    "    \n",
    "    if os.path.exists(filepath):\n",
    "        print(\"Arquivo já existe!\")\n",
    "        \n",
    "    else:\n",
    "    \n",
    "        download_url(url_sigla, \n",
    "                     save_path=filepath)\n",
    "\n",
    "    print(f\"Salvo em {filepath}\\n\")"
   ]
  },
  {
   "cell_type": "markdown",
   "id": "8784bdff",
   "metadata": {},
   "source": [
    "### Base de dados de Modelo de Urna"
   ]
  },
  {
   "cell_type": "code",
   "execution_count": 7,
   "id": "aff42228",
   "metadata": {},
   "outputs": [
    {
     "name": "stdout",
     "output_type": "stream",
     "text": [
      "Baixando https://cdn.tse.jus.br/estatistica/sead/odsele/modelo_urna/modelourna_numerointerno.zip\n",
      "Arquivo já existe!\n",
      "Salvo em data/raw/tse/modelourna_numerointerno.zip\n"
     ]
    }
   ],
   "source": [
    "filepath = data_globals.DIR_DATA_RAW_TSE + data_urls.get_url_modelo_urna_filename()\n",
    "\n",
    "print(f\"Baixando {data_urls.get_url_modelo_urna()}\")\n",
    "\n",
    "if os.path.exists(filepath):\n",
    "    print(\"Arquivo já existe!\")\n",
    "\n",
    "else:\n",
    "    download_url(data_urls.get_url_modelo_urna(), \n",
    "                 save_path=filepath)\n",
    "\n",
    "print(f\"Salvo em {filepath}\")"
   ]
  },
  {
   "cell_type": "markdown",
   "id": "0ac44695",
   "metadata": {},
   "source": [
    "# Dados do IBGE"
   ]
  },
  {
   "cell_type": "markdown",
   "id": "803aa53e",
   "metadata": {},
   "source": [
    "### Base de Shapefile"
   ]
  },
  {
   "cell_type": "code",
   "execution_count": 8,
   "id": "5582b2b4",
   "metadata": {},
   "outputs": [
    {
     "name": "stdout",
     "output_type": "stream",
     "text": [
      "Baixando https://geoftp.ibge.gov.br/organizacao_do_territorio/malhas_territoriais/malhas_municipais/municipio_2021/Brasil/BR/BR_Municipios_2021.zip\n",
      "Arquivo já existe!\n",
      "Salvo em data/raw/ibge/BR_Municipios_2021.zip\n"
     ]
    }
   ],
   "source": [
    "filepath = data_globals.DIR_DATA_RAW_IBGE + data_urls.get_url_shapefile_municipios_filename()\n",
    "\n",
    "print(f\"Baixando {data_urls.get_url_shapefile_municipios()}\")\n",
    "\n",
    "if os.path.exists(filepath):\n",
    "    print(\"Arquivo já existe!\")\n",
    "\n",
    "else:\n",
    "    download_url(data_urls.get_url_shapefile_municipios(), \n",
    "                 save_path=filepath)\n",
    "\n",
    "print(f\"Salvo em {filepath}\")"
   ]
  },
  {
   "cell_type": "markdown",
   "id": "1b68f84c",
   "metadata": {},
   "source": [
    "### Base de dados de PIB\n",
    "ATENÇÃO\n",
    "Esta base de dados precisa ser baixada manualmente.<br>\n",
    "https://www.ibge.gov.br/estatisticas/economicas/contas-nacionais/9088-produto-interno-bruto-dos-municipios.html?=&t=downloads\n",
    "\n",
    "2010_2013 > xls > PIBMunicipal_2010_2013.xls\n",
    "\n",
    "Quando baixar o arquivo, por favor, salve ele em formato <b>CSV</b> e altere o nome para `PIBMunicipal_2010_2013.csv`\n",
    "\n",
    "Salvar como 'data/raw/ibge/PIBMunicipal_2010_2013.csv'\n",
    "\n",
    "<br>\n",
    "\n",
    "<b>Obs1</b><br>\n",
    "Caso prefira utilizar esta base com o procedimento acima já feito, ela já se encontra no diretório citado.<br>\n",
    "Caso prefira utilizar sua própria base de PIB e PIB Per Capita, também funciona, só atente para que ela possua as seguintes colunas: \"LOCAL\", \"PIB\", \"PIB_PER_CAPITA\". <br>\n",
    "\n",
    "<b>Obs2</b><br>\n",
    "Utilizei a base de 2013 pois foi a mais fácil de processar os dados.<br>\n",
    "Pode utilizar uma base de dados mais recente, desde que mantenha as colunas informadas acima.<br>"
   ]
  },
  {
   "cell_type": "code",
   "execution_count": null,
   "id": "66f06547",
   "metadata": {},
   "outputs": [],
   "source": []
  }
 ],
 "metadata": {
  "kernelspec": {
   "display_name": "Python 3",
   "language": "python",
   "name": "python3"
  },
  "language_info": {
   "codemirror_mode": {
    "name": "ipython",
    "version": 3
   },
   "file_extension": ".py",
   "mimetype": "text/x-python",
   "name": "python",
   "nbconvert_exporter": "python",
   "pygments_lexer": "ipython3",
   "version": "3.8.8"
  }
 },
 "nbformat": 4,
 "nbformat_minor": 5
}
