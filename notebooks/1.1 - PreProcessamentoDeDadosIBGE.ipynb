{
 "cells": [
  {
   "cell_type": "markdown",
   "id": "3142feb1",
   "metadata": {},
   "source": [
    "# PreProcessamentoDeDados\n",
    "Este notebook tem o objetivo realizar um pré-processamento nos dados baixados. <br>\n",
    "Estes processamentos são os seguintes:\n",
    "- IBGE PIB\n",
    " - Deixar apenas as cidades (removendo PIB de Regiões, estados e Brasil)\n",
    " - Adicionar a coluna de Estado, sua respectiva Sigla e a Região.\n",
    " - Remover acentos dos nomes dos locais e colocar em caixa alta\n",
    " - Ajustas alguns nomes de cidades para cruzamento de bases\n",
    " \n",
    "- IBGE Shapefile\n",
    " - Remover acentos dos nomes dos locais e colocar em caixa alta\n",
    " - Ajustas alguns nomes de cidades para cruzamento de bases"
   ]
  },
  {
   "cell_type": "code",
   "execution_count": 1,
   "id": "4487c91d",
   "metadata": {},
   "outputs": [
    {
     "data": {
      "text/plain": [
       "'/Users/tales.pimentel/ds/audit2022p'"
      ]
     },
     "execution_count": 1,
     "metadata": {},
     "output_type": "execute_result"
    }
   ],
   "source": [
    "import working_dir\n",
    "working_dir.set_wd()\n",
    "working_dir.get_wd()"
   ]
  },
  {
   "cell_type": "code",
   "execution_count": 2,
   "id": "79d9f85b",
   "metadata": {},
   "outputs": [],
   "source": [
    "import pandas as pd\n",
    "import geopandas as gpd\n",
    "import numpy as np\n",
    "import zipfile\n",
    "import shutil\n",
    "import os\n",
    "from src.dao import data_urls, data_globals\n",
    "from src.utils import pretties as prt\n",
    "from src.utils import stats, dflib"
   ]
  },
  {
   "cell_type": "code",
   "execution_count": 3,
   "id": "a91218e3",
   "metadata": {},
   "outputs": [],
   "source": [
    "pd.set_option('display.max_columns', None)"
   ]
  },
  {
   "cell_type": "code",
   "execution_count": 4,
   "id": "ac5326fb",
   "metadata": {},
   "outputs": [],
   "source": [
    "FILEPATH_RAW_IBGE_PIB = data_globals.FILEPATH_RAW_IBGE_PIB\n",
    "FILEPATH_RAW_IBGE_SHAPEFILE_ZIP = data_globals.FILEPATH_RAW_IBGE_SHAPEFILE_ZIP\n",
    "FILEPATH_PROC_ESTADOS = data_globals.FILEPATH_PROC_ESTADOS\n",
    "FILEPATH_PROC_IBGE_SHAPEFILE = data_globals.FILEPATH_PROC_IBGE_SHAPEFILE\n",
    "FILEPATH_PROC_IBGE_PIB = data_globals.FILEPATH_PROC_IBGE_PIB"
   ]
  },
  {
   "cell_type": "code",
   "execution_count": 5,
   "id": "9da4b495",
   "metadata": {},
   "outputs": [],
   "source": [
    "# Mapa para ajustar nomes de cidades.\n",
    "# Com o objetivo que fiquem identicos aos nomes nas bases do TSE\n",
    "REPLACE_NOMES_MAP = {\"SAO TOME DAS LETRAS\": \"SAO THOME DAS LETRAS\",\n",
    "                     \"CAMACAN\": \"CAMACA\", \"GRACHO CARDOSO\": \"GRACCHO CARDOSO\",\n",
    "                     \"DONA EUZEBIA\": \"DONA EUSEBIA\",\n",
    "                     \"ELDORADO DO CARAJAS\": \"ELDORADO DOS CARAJAS\",\n",
    "                     \"SEM-PEIXE\": \"SEM PEIXE\", \"ARES\": \"AREZ\",\n",
    "                     \"SANTA IZABEL DO PARA\": \"SANTA ISABEL DO PARA\",\n",
    "                     \"AMPARO DO SAO FRANCISCO\": \"AMPARO DE SAO FRANCISCO\",\n",
    "                     \"SAO LUIZ DO PARAITINGA\": \"SAO LUIS DO PARAITINGA\",\n",
    "                     \"ACU\": \"ASSU\", \"ESPIGAO D'OESTE\": \"ESPIGAO DO OESTE\",\n",
    "                     \"ALVORADA D'OESTE\": \"ALVORADA DO OESTE\",\n",
    "                     \"PASSA-VINTE\": \"PASSA VINTE\", \"MUQUEM DE SAO FRANCISCO\": \"MUQUEM DO SAO FRANCISCO\",\n",
    "                     \"ITAPAGE\": \"ITAPAJE\", \"FLORINIA\": \"FLORINEA\", \"POXOREO\": \"POXOREU\", \"IGUARACI\": \"IGUARACY\",\n",
    "                     \"GRAO PARA\": \"GRAO-PARA\", \"BIRITIBA-MIRIM\": \"BIRITIBA MIRIM\", \"MOJI MIRIM\": \"MOGI MIRIM\"}\n",
    "\n",
    "PADROES_MAP = [(\"-D'\", \" D'\")]"
   ]
  },
  {
   "cell_type": "code",
   "execution_count": 6,
   "id": "91ddff28",
   "metadata": {},
   "outputs": [],
   "source": [
    "COLS_PIB = [\"LOCAL\",\n",
    "            \"PIB_2010\", \"PIB_PER_CAPITA_2010\", \n",
    "            \"PIB_2011\", \"PIB_PER_CAPITA_2011\", \n",
    "            \"PIB_2012\", \"PIB_PER_CAPITA_2012\", \n",
    "            \"PIB_2013\", \"PIB_PER_CAPITA_2013\"]\n",
    "\n",
    "COLS_NUM_PIB = [\"PIB_2013\", \"PIB_PER_CAPITA_2013\"]"
   ]
  },
  {
   "cell_type": "markdown",
   "id": "b3fa5a49",
   "metadata": {},
   "source": [
    "# Estados"
   ]
  },
  {
   "cell_type": "code",
   "execution_count": 7,
   "id": "0371991f",
   "metadata": {},
   "outputs": [
    {
     "data": {
      "text/html": [
       "<div>\n",
       "<style scoped>\n",
       "    .dataframe tbody tr th:only-of-type {\n",
       "        vertical-align: middle;\n",
       "    }\n",
       "\n",
       "    .dataframe tbody tr th {\n",
       "        vertical-align: top;\n",
       "    }\n",
       "\n",
       "    .dataframe thead th {\n",
       "        text-align: right;\n",
       "    }\n",
       "</style>\n",
       "<table border=\"1\" class=\"dataframe\">\n",
       "  <thead>\n",
       "    <tr style=\"text-align: right;\">\n",
       "      <th></th>\n",
       "      <th>SIGLA</th>\n",
       "      <th>ESTADO</th>\n",
       "      <th>REGIAO</th>\n",
       "      <th>CAPITAL</th>\n",
       "    </tr>\n",
       "  </thead>\n",
       "  <tbody>\n",
       "    <tr>\n",
       "      <th>5</th>\n",
       "      <td>CE</td>\n",
       "      <td>CEARA</td>\n",
       "      <td>NORDESTE</td>\n",
       "      <td>FORTALEZA</td>\n",
       "    </tr>\n",
       "    <tr>\n",
       "      <th>6</th>\n",
       "      <td>DF</td>\n",
       "      <td>DISTRITO FEDERAL</td>\n",
       "      <td>CENTRO OESTE</td>\n",
       "      <td>BRASILIA</td>\n",
       "    </tr>\n",
       "    <tr>\n",
       "      <th>20</th>\n",
       "      <td>RS</td>\n",
       "      <td>RIO GRANDE DO SUL</td>\n",
       "      <td>SUL</td>\n",
       "      <td>PORTO ALEGRE</td>\n",
       "    </tr>\n",
       "    <tr>\n",
       "      <th>19</th>\n",
       "      <td>RN</td>\n",
       "      <td>RIO GRANDE DO NORTE</td>\n",
       "      <td>NORDESTE</td>\n",
       "      <td>NATAL</td>\n",
       "    </tr>\n",
       "    <tr>\n",
       "      <th>13</th>\n",
       "      <td>PA</td>\n",
       "      <td>PARA</td>\n",
       "      <td>NORTE</td>\n",
       "      <td>BELEM</td>\n",
       "    </tr>\n",
       "  </tbody>\n",
       "</table>\n",
       "</div>"
      ],
      "text/plain": [
       "   SIGLA               ESTADO        REGIAO       CAPITAL\n",
       "5     CE                CEARA      NORDESTE     FORTALEZA\n",
       "6     DF     DISTRITO FEDERAL  CENTRO OESTE      BRASILIA\n",
       "20    RS    RIO GRANDE DO SUL           SUL  PORTO ALEGRE\n",
       "19    RN  RIO GRANDE DO NORTE      NORDESTE         NATAL\n",
       "13    PA                 PARA         NORTE         BELEM"
      ]
     },
     "execution_count": 7,
     "metadata": {},
     "output_type": "execute_result"
    }
   ],
   "source": [
    "estados = pd.read_csv(FILEPATH_PROC_ESTADOS, sep=\";\")\n",
    "\n",
    "cols_locais = [\"ESTADO\", \"REGIAO\", \"CAPITAL\"]\n",
    "\n",
    "estados[cols_locais] = estados[cols_locais].apply(lambda col : col.str.upper())\n",
    "estados[cols_locais] = estados[cols_locais].apply(lambda col: dflib.remove_acento_list(col.str.upper()))\n",
    "\n",
    "estados.sample(5)"
   ]
  },
  {
   "cell_type": "markdown",
   "id": "3180b7e7",
   "metadata": {},
   "source": [
    "# IBGE PIB"
   ]
  },
  {
   "cell_type": "code",
   "execution_count": 8,
   "id": "d57d7cb9",
   "metadata": {},
   "outputs": [
    {
     "data": {
      "text/html": [
       "<div>\n",
       "<style scoped>\n",
       "    .dataframe tbody tr th:only-of-type {\n",
       "        vertical-align: middle;\n",
       "    }\n",
       "\n",
       "    .dataframe tbody tr th {\n",
       "        vertical-align: top;\n",
       "    }\n",
       "\n",
       "    .dataframe thead th {\n",
       "        text-align: right;\n",
       "    }\n",
       "</style>\n",
       "<table border=\"1\" class=\"dataframe\">\n",
       "  <thead>\n",
       "    <tr style=\"text-align: right;\">\n",
       "      <th></th>\n",
       "      <th>LOCAL</th>\n",
       "      <th>PIB</th>\n",
       "      <th>PIB_PER_CAPITA</th>\n",
       "    </tr>\n",
       "  </thead>\n",
       "  <tbody>\n",
       "    <tr>\n",
       "      <th>0</th>\n",
       "      <td>NORTE</td>\n",
       "      <td>292341723000</td>\n",
       "      <td>17213.30</td>\n",
       "    </tr>\n",
       "    <tr>\n",
       "      <th>1</th>\n",
       "      <td>RONDONIA</td>\n",
       "      <td>31091764000</td>\n",
       "      <td>17990.69</td>\n",
       "    </tr>\n",
       "    <tr>\n",
       "      <th>2</th>\n",
       "      <td>ALTA FLORESTA D'OESTE</td>\n",
       "      <td>340407000</td>\n",
       "      <td>13231.01</td>\n",
       "    </tr>\n",
       "    <tr>\n",
       "      <th>3</th>\n",
       "      <td>ALTO ALEGRE DOS PARECIS</td>\n",
       "      <td>182830000</td>\n",
       "      <td>13222.71</td>\n",
       "    </tr>\n",
       "    <tr>\n",
       "      <th>4</th>\n",
       "      <td>ALTO PARAISO</td>\n",
       "      <td>213812000</td>\n",
       "      <td>10987.82</td>\n",
       "    </tr>\n",
       "    <tr>\n",
       "      <th>...</th>\n",
       "      <td>...</td>\n",
       "      <td>...</td>\n",
       "      <td>...</td>\n",
       "    </tr>\n",
       "    <tr>\n",
       "      <th>5597</th>\n",
       "      <td>VICENTINOPOLIS</td>\n",
       "      <td>252785000</td>\n",
       "      <td>31864.95</td>\n",
       "    </tr>\n",
       "    <tr>\n",
       "      <th>5598</th>\n",
       "      <td>VILA BOA</td>\n",
       "      <td>105410000</td>\n",
       "      <td>20093.49</td>\n",
       "    </tr>\n",
       "    <tr>\n",
       "      <th>5599</th>\n",
       "      <td>VILA PROPICIO</td>\n",
       "      <td>143604000</td>\n",
       "      <td>26301.12</td>\n",
       "    </tr>\n",
       "    <tr>\n",
       "      <th>5600</th>\n",
       "      <td>DISTRITO FEDERAL</td>\n",
       "      <td>175362791000</td>\n",
       "      <td>62859.43</td>\n",
       "    </tr>\n",
       "    <tr>\n",
       "      <th>5601</th>\n",
       "      <td>BRASILIA</td>\n",
       "      <td>175362791000</td>\n",
       "      <td>62859.43</td>\n",
       "    </tr>\n",
       "  </tbody>\n",
       "</table>\n",
       "<p>5602 rows × 3 columns</p>\n",
       "</div>"
      ],
      "text/plain": [
       "                        LOCAL           PIB  PIB_PER_CAPITA\n",
       "0                       NORTE  292341723000        17213.30\n",
       "1                    RONDONIA   31091764000        17990.69\n",
       "2       ALTA FLORESTA D'OESTE     340407000        13231.01\n",
       "3     ALTO ALEGRE DOS PARECIS     182830000        13222.71\n",
       "4                ALTO PARAISO     213812000        10987.82\n",
       "...                       ...           ...             ...\n",
       "5597           VICENTINOPOLIS     252785000        31864.95\n",
       "5598                 VILA BOA     105410000        20093.49\n",
       "5599            VILA PROPICIO     143604000        26301.12\n",
       "5600         DISTRITO FEDERAL  175362791000        62859.43\n",
       "5601                 BRASILIA  175362791000        62859.43\n",
       "\n",
       "[5602 rows x 3 columns]"
      ]
     },
     "execution_count": 8,
     "metadata": {},
     "output_type": "execute_result"
    }
   ],
   "source": [
    "pib = pd.read_csv(FILEPATH_RAW_IBGE_PIB.replace(\".xls\", \".csv\"), skiprows=7, skipfooter=4, header=None, sep=\";\", engine=\"python\")\n",
    "pib.columns = COLS_PIB\n",
    "pib = pib[[\"LOCAL\"] + COLS_NUM_PIB].rename(columns={\"PIB_2013\": \"PIB\", \"PIB_PER_CAPITA_2013\": \"PIB_PER_CAPITA\"})\n",
    "   \n",
    "cols_locais = [\"LOCAL\"]\n",
    "pib[cols_locais] = pib[cols_locais].apply(lambda col : col.str.upper())\n",
    "pib[cols_locais] = pib[cols_locais].apply(lambda col: dflib.remove_acento_list(col.str.upper()))\n",
    "\n",
    "pib[\"LOCAL\"] = pib[\"LOCAL\"].replace(REPLACE_NOMES_MAP)\n",
    "\n",
    "for padrao in PADROES_MAP:\n",
    "    pib[\"LOCAL\"] = pib[\"LOCAL\"].str.replace(padrao[0], padrao[1])\n",
    "\n",
    "pib[\"PIB\"] = pib[\"PIB\"].str.replace(\" \", \"\").astype(int) * 1000\n",
    "pib[\"PIB_PER_CAPITA\"] = pib[\"PIB_PER_CAPITA\"].str.replace(\" \", \"\").astype(float)\n",
    "pib"
   ]
  },
  {
   "cell_type": "code",
   "execution_count": 9,
   "id": "58ddd6d7",
   "metadata": {},
   "outputs": [
    {
     "name": "stdout",
     "output_type": "stream",
     "text": [
      "pib_regioes.shape (5, 3)\n",
      "pib_estados.shape (27, 3)\n"
     ]
    },
    {
     "data": {
      "text/html": [
       "<div>\n",
       "<style scoped>\n",
       "    .dataframe tbody tr th:only-of-type {\n",
       "        vertical-align: middle;\n",
       "    }\n",
       "\n",
       "    .dataframe tbody tr th {\n",
       "        vertical-align: top;\n",
       "    }\n",
       "\n",
       "    .dataframe thead th {\n",
       "        text-align: right;\n",
       "    }\n",
       "</style>\n",
       "<table border=\"1\" class=\"dataframe\">\n",
       "  <thead>\n",
       "    <tr style=\"text-align: right;\">\n",
       "      <th></th>\n",
       "      <th>index_inicio</th>\n",
       "      <th>LOCAL</th>\n",
       "      <th>index_fim</th>\n",
       "    </tr>\n",
       "  </thead>\n",
       "  <tbody>\n",
       "    <tr>\n",
       "      <th>0</th>\n",
       "      <td>1</td>\n",
       "      <td>RONDONIA</td>\n",
       "      <td>53.0</td>\n",
       "    </tr>\n",
       "    <tr>\n",
       "      <th>1</th>\n",
       "      <td>54</td>\n",
       "      <td>ACRE</td>\n",
       "      <td>76.0</td>\n",
       "    </tr>\n",
       "    <tr>\n",
       "      <th>2</th>\n",
       "      <td>77</td>\n",
       "      <td>AMAZONAS</td>\n",
       "      <td>139.0</td>\n",
       "    </tr>\n",
       "    <tr>\n",
       "      <th>3</th>\n",
       "      <td>140</td>\n",
       "      <td>RORAIMA</td>\n",
       "      <td>155.0</td>\n",
       "    </tr>\n",
       "    <tr>\n",
       "      <th>4</th>\n",
       "      <td>156</td>\n",
       "      <td>PARA</td>\n",
       "      <td>300.0</td>\n",
       "    </tr>\n",
       "  </tbody>\n",
       "</table>\n",
       "</div>"
      ],
      "text/plain": [
       "   index_inicio        LOCAL  index_fim\n",
       "0             1     RONDONIA       53.0\n",
       "1            54         ACRE       76.0\n",
       "2            77     AMAZONAS      139.0\n",
       "3           140      RORAIMA      155.0\n",
       "4           156         PARA      300.0"
      ]
     },
     "execution_count": 9,
     "metadata": {},
     "output_type": "execute_result"
    }
   ],
   "source": [
    "pib_regioes = pib[(pib[\"LOCAL\"].str.startswith(\"       \"))]\n",
    "print(\"pib_regioes.shape\", pib_regioes.shape)\n",
    "\n",
    "pib_estados = pib[(pib[\"LOCAL\"].str.startswith(\" \")) & (~pib[\"LOCAL\"].str.startswith(\"       \"))]\n",
    "print(\"pib_estados.shape\", pib_estados.shape)\n",
    "\n",
    "pib_estados_index = pib_estados.reset_index()[[\"index\", \"LOCAL\"]].rename(columns={\"index\": \"index_inicio\"})\n",
    "pib_estados_index[\"index_fim\"] = pib_estados_index[\"index_inicio\"].shift(-1)\n",
    "pib_estados_index[\"index_fim\"] = pib_estados_index[\"index_fim\"] - 1\n",
    "pib_estados_index[\"index_fim\"] = pib_estados_index[\"index_fim\"].fillna(np.inf)\n",
    "pib_estados_index.head()"
   ]
  },
  {
   "cell_type": "code",
   "execution_count": 10,
   "id": "fed3b284",
   "metadata": {},
   "outputs": [],
   "source": [
    "# Função para cidade para seu respectivo estado\n",
    "# Utiliza o índice da tabela como referência, uma vez que as cidades estão delimitadas pelo nome do seu estado\n",
    "\n",
    "def map_estado(i, estados_i):\n",
    "    for _, row in estados_i.iterrows():     \n",
    "        if (i > row[\"index_inicio\"]) & (i <= row[\"index_fim\"]):\n",
    "            \n",
    "            return row[\"LOCAL\"]\n",
    "    else:\n",
    "        return \"ESTADO_NÃO_IDENTIFICADO\""
   ]
  },
  {
   "cell_type": "code",
   "execution_count": 11,
   "id": "be6c220c",
   "metadata": {},
   "outputs": [],
   "source": [
    "pib[\"ESTADO\"] = pib.reset_index().apply(lambda row : map_estado(row[\"index\"], \n",
    "                                                                pib_estados_index), axis=1).str.strip()\n",
    "\n",
    "pib = pib.drop(index=pib_estados.index)\n",
    "pib = pib.drop(index=pib_regioes.index)"
   ]
  },
  {
   "cell_type": "code",
   "execution_count": 12,
   "id": "2d479080",
   "metadata": {},
   "outputs": [
    {
     "name": "stdout",
     "output_type": "stream",
     "text": [
      "Match no merge\n"
     ]
    },
    {
     "data": {
      "text/html": [
       "<div>\n",
       "<style scoped>\n",
       "    .dataframe tbody tr th:only-of-type {\n",
       "        vertical-align: middle;\n",
       "    }\n",
       "\n",
       "    .dataframe tbody tr th {\n",
       "        vertical-align: top;\n",
       "    }\n",
       "\n",
       "    .dataframe thead th {\n",
       "        text-align: right;\n",
       "    }\n",
       "</style>\n",
       "<table border=\"1\" class=\"dataframe\">\n",
       "  <thead>\n",
       "    <tr style=\"text-align: right;\">\n",
       "      <th></th>\n",
       "      <th>Absoluto</th>\n",
       "      <th>Relativo</th>\n",
       "    </tr>\n",
       "  </thead>\n",
       "  <tbody>\n",
       "    <tr>\n",
       "      <th>True</th>\n",
       "      <td>5570</td>\n",
       "      <td>1.0</td>\n",
       "    </tr>\n",
       "  </tbody>\n",
       "</table>\n",
       "</div>"
      ],
      "text/plain": [
       "      Absoluto  Relativo\n",
       "True      5570       1.0"
      ]
     },
     "metadata": {},
     "output_type": "display_data"
    },
    {
     "data": {
      "text/html": [
       "<div>\n",
       "<style scoped>\n",
       "    .dataframe tbody tr th:only-of-type {\n",
       "        vertical-align: middle;\n",
       "    }\n",
       "\n",
       "    .dataframe tbody tr th {\n",
       "        vertical-align: top;\n",
       "    }\n",
       "\n",
       "    .dataframe thead th {\n",
       "        text-align: right;\n",
       "    }\n",
       "</style>\n",
       "<table border=\"1\" class=\"dataframe\">\n",
       "  <thead>\n",
       "    <tr style=\"text-align: right;\">\n",
       "      <th></th>\n",
       "      <th>LOCAL</th>\n",
       "      <th>PIB</th>\n",
       "      <th>PIB_PER_CAPITA</th>\n",
       "      <th>ESTADO</th>\n",
       "      <th>SIGLA</th>\n",
       "      <th>REGIAO</th>\n",
       "      <th>CAPITAL</th>\n",
       "    </tr>\n",
       "  </thead>\n",
       "  <tbody>\n",
       "    <tr>\n",
       "      <th>162</th>\n",
       "      <td>AUGUSTO CORREA</td>\n",
       "      <td>252665000</td>\n",
       "      <td>5932.35</td>\n",
       "      <td>PARA</td>\n",
       "      <td>PA</td>\n",
       "      <td>NORTE</td>\n",
       "      <td>BELEM</td>\n",
       "    </tr>\n",
       "    <tr>\n",
       "      <th>3872</th>\n",
       "      <td>TATUI</td>\n",
       "      <td>3348513000</td>\n",
       "      <td>29292.24</td>\n",
       "      <td>SAO PAULO</td>\n",
       "      <td>SP</td>\n",
       "      <td>SUDESTE</td>\n",
       "      <td>SAO PAULO</td>\n",
       "    </tr>\n",
       "    <tr>\n",
       "      <th>4480</th>\n",
       "      <td>MORRO GRANDE</td>\n",
       "      <td>92705000</td>\n",
       "      <td>31661.54</td>\n",
       "      <td>SANTA CATARINA</td>\n",
       "      <td>SC</td>\n",
       "      <td>SUL</td>\n",
       "      <td>FLORIANOPOLIS</td>\n",
       "    </tr>\n",
       "    <tr>\n",
       "      <th>4008</th>\n",
       "      <td>DIAMANTE D'OESTE</td>\n",
       "      <td>84880000</td>\n",
       "      <td>16251.21</td>\n",
       "      <td>PARANA</td>\n",
       "      <td>PR</td>\n",
       "      <td>SUL</td>\n",
       "      <td>CURITIBA</td>\n",
       "    </tr>\n",
       "    <tr>\n",
       "      <th>5167</th>\n",
       "      <td>RIO BRILHANTE</td>\n",
       "      <td>1447048000</td>\n",
       "      <td>43374.14</td>\n",
       "      <td>MATO GROSSO DO SUL</td>\n",
       "      <td>MS</td>\n",
       "      <td>CENTRO-OESTE</td>\n",
       "      <td>CAMPO GRANDE</td>\n",
       "    </tr>\n",
       "  </tbody>\n",
       "</table>\n",
       "</div>"
      ],
      "text/plain": [
       "                 LOCAL         PIB  PIB_PER_CAPITA              ESTADO SIGLA  \\\n",
       "162     AUGUSTO CORREA   252665000         5932.35                PARA    PA   \n",
       "3872             TATUI  3348513000        29292.24           SAO PAULO    SP   \n",
       "4480      MORRO GRANDE    92705000        31661.54      SANTA CATARINA    SC   \n",
       "4008  DIAMANTE D'OESTE    84880000        16251.21              PARANA    PR   \n",
       "5167     RIO BRILHANTE  1447048000        43374.14  MATO GROSSO DO SUL    MS   \n",
       "\n",
       "            REGIAO        CAPITAL  \n",
       "162          NORTE          BELEM  \n",
       "3872       SUDESTE      SAO PAULO  \n",
       "4480           SUL  FLORIANOPOLIS  \n",
       "4008           SUL       CURITIBA  \n",
       "5167  CENTRO-OESTE   CAMPO GRANDE  "
      ]
     },
     "execution_count": 12,
     "metadata": {},
     "output_type": "execute_result"
    }
   ],
   "source": [
    "pib = pib.merge(estados, on=\"ESTADO\", how=\"left\")\n",
    "\n",
    "print(\"Match no merge\")\n",
    "prt.display(stats.freq(pib[\"SIGLA\"].isna() == False))\n",
    "\n",
    "pib.sample(5)"
   ]
  },
  {
   "cell_type": "code",
   "execution_count": 13,
   "id": "17d63d3b",
   "metadata": {},
   "outputs": [],
   "source": [
    "pib.loc[pib[(pib[\"SIGLA\"] == \"BA\") & (pib[\"LOCAL\"] == \"SANTA TERESINHA\")].index, \"LOCAL\"] = \"SANTA TEREZINHA\""
   ]
  },
  {
   "cell_type": "code",
   "execution_count": 14,
   "id": "9f5dddae",
   "metadata": {},
   "outputs": [
    {
     "name": "stdout",
     "output_type": "stream",
     "text": [
      "pib.shape (5570, 7)\n",
      "data/processed/ibge_pib.csv\n"
     ]
    }
   ],
   "source": [
    "print(\"pib.shape\", pib.shape)\n",
    "print(FILEPATH_PROC_IBGE_PIB)\n",
    "pib.to_csv(FILEPATH_PROC_IBGE_PIB, sep=\";\", index=False)"
   ]
  },
  {
   "cell_type": "markdown",
   "id": "ab0b73ac",
   "metadata": {},
   "source": [
    "#### Anotações\n",
    "O Brasil possui 5568 municípios, sem contar com o Distrito Federal e Fernando de Noronha. <br>\n",
    "Assim que estas 5570 representações de PIB Municipal, se encaixam perfeitamente na definição."
   ]
  },
  {
   "cell_type": "markdown",
   "id": "4be85300",
   "metadata": {},
   "source": [
    "# IBGE Shapefile dos Municípios"
   ]
  },
  {
   "cell_type": "code",
   "execution_count": 15,
   "id": "7ecff616",
   "metadata": {},
   "outputs": [
    {
     "data": {
      "text/plain": [
       "'data/raw/ibge/BR_Municipios_2021.zip'"
      ]
     },
     "execution_count": 15,
     "metadata": {},
     "output_type": "execute_result"
    }
   ],
   "source": [
    "FILEPATH_RAW_IBGE_SHAPEFILE_ZIP"
   ]
  },
  {
   "cell_type": "code",
   "execution_count": 16,
   "id": "cab517b9",
   "metadata": {},
   "outputs": [],
   "source": [
    "dir_temp = \"/\".join(FILEPATH_RAW_IBGE_SHAPEFILE_ZIP.split(\"/\")[0:-1]) + \"/temp/\"\n",
    "filename_shp = FILEPATH_RAW_IBGE_SHAPEFILE_ZIP.split(\"/\")[-1].replace(\".zip\", \".shp\")\n",
    "\n",
    "with zipfile.ZipFile(FILEPATH_RAW_IBGE_SHAPEFILE_ZIP, 'r') as zip_ref:    \n",
    "    zip_ref.extractall(dir_temp)\n",
    "    \n",
    "df_gpd = gpd.read_file(dir_temp + filename_shp)\n",
    "shutil.rmtree(dir_temp)"
   ]
  },
  {
   "cell_type": "code",
   "execution_count": 17,
   "id": "8a8a00bc",
   "metadata": {},
   "outputs": [],
   "source": [
    "df_gpd[\"NM_MUN\"] = dflib.remove_acento_list(df_gpd[\"NM_MUN\"].str.upper())\n",
    "df_gpd[\"NM_MUN\"] = df_gpd[\"NM_MUN\"].str.upper()"
   ]
  },
  {
   "cell_type": "code",
   "execution_count": 18,
   "id": "16f48e35",
   "metadata": {},
   "outputs": [],
   "source": [
    "df_gpd[\"NM_MUN\"] = df_gpd[\"NM_MUN\"].replace(REPLACE_NOMES_MAP)\n",
    "\n",
    "for padrao in PADROES_MAP:\n",
    "    df_gpd[\"NM_MUN\"] = df_gpd[\"NM_MUN\"].str.replace(padrao[0], padrao[1])"
   ]
  },
  {
   "cell_type": "code",
   "execution_count": 19,
   "id": "7df4e014",
   "metadata": {
    "scrolled": true
   },
   "outputs": [
    {
     "name": "stdout",
     "output_type": "stream",
     "text": [
      "df_gpd.shape (5572, 5)\n"
     ]
    },
    {
     "data": {
      "text/html": [
       "<div>\n",
       "<style scoped>\n",
       "    .dataframe tbody tr th:only-of-type {\n",
       "        vertical-align: middle;\n",
       "    }\n",
       "\n",
       "    .dataframe tbody tr th {\n",
       "        vertical-align: top;\n",
       "    }\n",
       "\n",
       "    .dataframe thead th {\n",
       "        text-align: right;\n",
       "    }\n",
       "</style>\n",
       "<table border=\"1\" class=\"dataframe\">\n",
       "  <thead>\n",
       "    <tr style=\"text-align: right;\">\n",
       "      <th></th>\n",
       "      <th>CD_MUN</th>\n",
       "      <th>NM_MUN</th>\n",
       "      <th>SIGLA</th>\n",
       "      <th>AREA_KM2</th>\n",
       "      <th>geometry</th>\n",
       "    </tr>\n",
       "  </thead>\n",
       "  <tbody>\n",
       "    <tr>\n",
       "      <th>1811</th>\n",
       "      <td>2806107</td>\n",
       "      <td>ROSARIO DO CATETE</td>\n",
       "      <td>SE</td>\n",
       "      <td>102.683</td>\n",
       "      <td>POLYGON ((-37.01064 -10.65623, -37.01049 -10.6...</td>\n",
       "    </tr>\n",
       "    <tr>\n",
       "      <th>3561</th>\n",
       "      <td>3526001</td>\n",
       "      <td>JUNQUEIROPOLIS</td>\n",
       "      <td>SP</td>\n",
       "      <td>582.565</td>\n",
       "      <td>POLYGON ((-51.49442 -21.22086, -51.49441 -21.2...</td>\n",
       "    </tr>\n",
       "    <tr>\n",
       "      <th>1891</th>\n",
       "      <td>2905156</td>\n",
       "      <td>CAETANOS</td>\n",
       "      <td>BA</td>\n",
       "      <td>767.146</td>\n",
       "      <td>POLYGON ((-41.00005 -14.16634, -40.95585 -14.1...</td>\n",
       "    </tr>\n",
       "    <tr>\n",
       "      <th>4198</th>\n",
       "      <td>4120655</td>\n",
       "      <td>QUARTO CENTENARIO</td>\n",
       "      <td>PR</td>\n",
       "      <td>321.875</td>\n",
       "      <td>POLYGON ((-53.07392 -24.22478, -53.07388 -24.2...</td>\n",
       "    </tr>\n",
       "    <tr>\n",
       "      <th>3937</th>\n",
       "      <td>4102109</td>\n",
       "      <td>ASTORGA</td>\n",
       "      <td>PR</td>\n",
       "      <td>434.792</td>\n",
       "      <td>POLYGON ((-51.64918 -23.08853, -51.64948 -23.0...</td>\n",
       "    </tr>\n",
       "  </tbody>\n",
       "</table>\n",
       "</div>"
      ],
      "text/plain": [
       "       CD_MUN             NM_MUN SIGLA  AREA_KM2  \\\n",
       "1811  2806107  ROSARIO DO CATETE    SE   102.683   \n",
       "3561  3526001     JUNQUEIROPOLIS    SP   582.565   \n",
       "1891  2905156           CAETANOS    BA   767.146   \n",
       "4198  4120655  QUARTO CENTENARIO    PR   321.875   \n",
       "3937  4102109            ASTORGA    PR   434.792   \n",
       "\n",
       "                                               geometry  \n",
       "1811  POLYGON ((-37.01064 -10.65623, -37.01049 -10.6...  \n",
       "3561  POLYGON ((-51.49442 -21.22086, -51.49441 -21.2...  \n",
       "1891  POLYGON ((-41.00005 -14.16634, -40.95585 -14.1...  \n",
       "4198  POLYGON ((-53.07392 -24.22478, -53.07388 -24.2...  \n",
       "3937  POLYGON ((-51.64918 -23.08853, -51.64948 -23.0...  "
      ]
     },
     "execution_count": 19,
     "metadata": {},
     "output_type": "execute_result"
    }
   ],
   "source": [
    "print(\"df_gpd.shape\", df_gpd.shape)\n",
    "df_gpd.sample(5)"
   ]
  },
  {
   "cell_type": "code",
   "execution_count": 20,
   "id": "c56b633d",
   "metadata": {
    "scrolled": true
   },
   "outputs": [
    {
     "name": "stdout",
     "output_type": "stream",
     "text": [
      "data/processed/BR_Municipios_2021.shp\n"
     ]
    }
   ],
   "source": [
    "print(FILEPATH_PROC_IBGE_SHAPEFILE)\n",
    "df_gpd.to_file(FILEPATH_PROC_IBGE_SHAPEFILE) "
   ]
  },
  {
   "cell_type": "markdown",
   "id": "df48c3ff",
   "metadata": {},
   "source": [
    "## Validação"
   ]
  },
  {
   "cell_type": "code",
   "execution_count": 21,
   "id": "dae0716b",
   "metadata": {},
   "outputs": [],
   "source": [
    "df_gpd = df_gpd.merge(pib, left_on=[\"NM_MUN\", \"SIGLA\"], right_on=[\"LOCAL\", \"SIGLA\"],\n",
    "                      how=\"left\")"
   ]
  },
  {
   "cell_type": "code",
   "execution_count": 22,
   "id": "53661971",
   "metadata": {},
   "outputs": [
    {
     "name": "stdout",
     "output_type": "stream",
     "text": [
      "As 5 cidades a seguir possuem um shapefile mas não foi encontrado PIB.\n",
      "Elas representam 0.09% das cidades com Shapefile.\n"
     ]
    },
    {
     "data": {
      "text/html": [
       "<div>\n",
       "<style scoped>\n",
       "    .dataframe tbody tr th:only-of-type {\n",
       "        vertical-align: middle;\n",
       "    }\n",
       "\n",
       "    .dataframe tbody tr th {\n",
       "        vertical-align: top;\n",
       "    }\n",
       "\n",
       "    .dataframe thead th {\n",
       "        text-align: right;\n",
       "    }\n",
       "</style>\n",
       "<table border=\"1\" class=\"dataframe\">\n",
       "  <thead>\n",
       "    <tr style=\"text-align: right;\">\n",
       "      <th></th>\n",
       "      <th>CD_MUN</th>\n",
       "      <th>NM_MUN</th>\n",
       "      <th>SIGLA</th>\n",
       "      <th>AREA_KM2</th>\n",
       "      <th>geometry</th>\n",
       "      <th>LOCAL</th>\n",
       "      <th>PIB</th>\n",
       "      <th>PIB_PER_CAPITA</th>\n",
       "      <th>ESTADO</th>\n",
       "      <th>REGIAO</th>\n",
       "      <th>CAPITAL</th>\n",
       "    </tr>\n",
       "  </thead>\n",
       "  <tbody>\n",
       "    <tr>\n",
       "      <th>364</th>\n",
       "      <td>1708254</td>\n",
       "      <td>TABOCAO</td>\n",
       "      <td>TO</td>\n",
       "      <td>624.463</td>\n",
       "      <td>POLYGON ((-48.39248 -8.97539, -48.39222 -8.975...</td>\n",
       "      <td>NaN</td>\n",
       "      <td>NaN</td>\n",
       "      <td>NaN</td>\n",
       "      <td>NaN</td>\n",
       "      <td>NaN</td>\n",
       "      <td>NaN</td>\n",
       "    </tr>\n",
       "    <tr>\n",
       "      <th>1087</th>\n",
       "      <td>2401305</td>\n",
       "      <td>CAMPO GRANDE</td>\n",
       "      <td>RN</td>\n",
       "      <td>896.954</td>\n",
       "      <td>POLYGON ((-37.22058 -5.71750, -37.21905 -5.725...</td>\n",
       "      <td>NaN</td>\n",
       "      <td>NaN</td>\n",
       "      <td>NaN</td>\n",
       "      <td>NaN</td>\n",
       "      <td>NaN</td>\n",
       "      <td>NaN</td>\n",
       "    </tr>\n",
       "    <tr>\n",
       "      <th>1187</th>\n",
       "      <td>2410306</td>\n",
       "      <td>SERRA CAIADA</td>\n",
       "      <td>RN</td>\n",
       "      <td>217.539</td>\n",
       "      <td>POLYGON ((-35.74592 -6.06218, -35.72167 -6.074...</td>\n",
       "      <td>NaN</td>\n",
       "      <td>NaN</td>\n",
       "      <td>NaN</td>\n",
       "      <td>NaN</td>\n",
       "      <td>NaN</td>\n",
       "      <td>NaN</td>\n",
       "    </tr>\n",
       "    <tr>\n",
       "      <th>4606</th>\n",
       "      <td>4300001</td>\n",
       "      <td>LAGOA MIRIM</td>\n",
       "      <td>RS</td>\n",
       "      <td>2872.364</td>\n",
       "      <td>POLYGON ((-52.62347 -32.14606, -52.62286 -32.1...</td>\n",
       "      <td>NaN</td>\n",
       "      <td>NaN</td>\n",
       "      <td>NaN</td>\n",
       "      <td>NaN</td>\n",
       "      <td>NaN</td>\n",
       "      <td>NaN</td>\n",
       "    </tr>\n",
       "    <tr>\n",
       "      <th>4607</th>\n",
       "      <td>4300002</td>\n",
       "      <td>LAGOA DOS PATOS</td>\n",
       "      <td>RS</td>\n",
       "      <td>10196.942</td>\n",
       "      <td>POLYGON ((-51.29028 -30.00222, -51.28939 -30.0...</td>\n",
       "      <td>NaN</td>\n",
       "      <td>NaN</td>\n",
       "      <td>NaN</td>\n",
       "      <td>NaN</td>\n",
       "      <td>NaN</td>\n",
       "      <td>NaN</td>\n",
       "    </tr>\n",
       "  </tbody>\n",
       "</table>\n",
       "</div>"
      ],
      "text/plain": [
       "       CD_MUN           NM_MUN SIGLA   AREA_KM2  \\\n",
       "364   1708254          TABOCAO    TO    624.463   \n",
       "1087  2401305     CAMPO GRANDE    RN    896.954   \n",
       "1187  2410306     SERRA CAIADA    RN    217.539   \n",
       "4606  4300001      LAGOA MIRIM    RS   2872.364   \n",
       "4607  4300002  LAGOA DOS PATOS    RS  10196.942   \n",
       "\n",
       "                                               geometry LOCAL  PIB  \\\n",
       "364   POLYGON ((-48.39248 -8.97539, -48.39222 -8.975...   NaN  NaN   \n",
       "1087  POLYGON ((-37.22058 -5.71750, -37.21905 -5.725...   NaN  NaN   \n",
       "1187  POLYGON ((-35.74592 -6.06218, -35.72167 -6.074...   NaN  NaN   \n",
       "4606  POLYGON ((-52.62347 -32.14606, -52.62286 -32.1...   NaN  NaN   \n",
       "4607  POLYGON ((-51.29028 -30.00222, -51.28939 -30.0...   NaN  NaN   \n",
       "\n",
       "      PIB_PER_CAPITA ESTADO REGIAO CAPITAL  \n",
       "364              NaN    NaN    NaN     NaN  \n",
       "1087             NaN    NaN    NaN     NaN  \n",
       "1187             NaN    NaN    NaN     NaN  \n",
       "4606             NaN    NaN    NaN     NaN  \n",
       "4607             NaN    NaN    NaN     NaN  "
      ]
     },
     "metadata": {},
     "output_type": "display_data"
    }
   ],
   "source": [
    "shape_sem_pib = df_gpd[df_gpd[\"PIB\"].isna()]\n",
    "print(f\"As {len(shape_sem_pib)} cidades a seguir possuem um shapefile mas não foi encontrado PIB.\")\n",
    "print(f\"Elas representam {round(100 * len(shape_sem_pib) / len(df_gpd), 2)}% das cidades com Shapefile.\")\n",
    "\n",
    "prt.display(shape_sem_pib)"
   ]
  },
  {
   "cell_type": "code",
   "execution_count": null,
   "id": "e3fc85ac",
   "metadata": {},
   "outputs": [],
   "source": []
  }
 ],
 "metadata": {
  "kernelspec": {
   "display_name": "Python 3",
   "language": "python",
   "name": "python3"
  },
  "language_info": {
   "codemirror_mode": {
    "name": "ipython",
    "version": 3
   },
   "file_extension": ".py",
   "mimetype": "text/x-python",
   "name": "python",
   "nbconvert_exporter": "python",
   "pygments_lexer": "ipython3",
   "version": "3.8.8"
  }
 },
 "nbformat": 4,
 "nbformat_minor": 5
}
